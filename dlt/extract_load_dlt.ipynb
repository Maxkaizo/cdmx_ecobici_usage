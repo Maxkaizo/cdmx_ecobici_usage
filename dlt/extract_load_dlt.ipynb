{
 "cells": [
  {
   "cell_type": "code",
   "execution_count": 5,
   "metadata": {},
   "outputs": [
    {
     "name": "stdout",
     "output_type": "stream",
     "text": [
      "Requirement already satisfied: dlt[bigquery] in /home/maxkaizo/miniconda3/envs/dataeng/lib/python3.9/site-packages (1.8.1)\n",
      "Requirement already satisfied: PyYAML>=5.4.1 in /home/maxkaizo/miniconda3/envs/dataeng/lib/python3.9/site-packages (from dlt[bigquery]) (6.0.2)\n",
      "Requirement already satisfied: click>=7.1 in /home/maxkaizo/miniconda3/envs/dataeng/lib/python3.9/site-packages (from dlt[bigquery]) (8.1.8)\n",
      "Requirement already satisfied: fsspec>=2022.4.0 in /home/maxkaizo/miniconda3/envs/dataeng/lib/python3.9/site-packages (from dlt[bigquery]) (2025.3.0)\n",
      "Requirement already satisfied: gitpython>=3.1.29 in /home/maxkaizo/miniconda3/envs/dataeng/lib/python3.9/site-packages (from dlt[bigquery]) (3.1.44)\n",
      "Requirement already satisfied: giturlparse>=0.10.0 in /home/maxkaizo/miniconda3/envs/dataeng/lib/python3.9/site-packages (from dlt[bigquery]) (0.12.0)\n",
      "Requirement already satisfied: hexbytes>=0.2.2 in /home/maxkaizo/miniconda3/envs/dataeng/lib/python3.9/site-packages (from dlt[bigquery]) (1.3.0)\n",
      "Requirement already satisfied: humanize>=4.4.0 in /home/maxkaizo/miniconda3/envs/dataeng/lib/python3.9/site-packages (from dlt[bigquery]) (4.12.0)\n",
      "Requirement already satisfied: jsonpath-ng>=1.5.3 in /home/maxkaizo/miniconda3/envs/dataeng/lib/python3.9/site-packages (from dlt[bigquery]) (1.7.0)\n",
      "Requirement already satisfied: makefun>=1.15.0 in /home/maxkaizo/miniconda3/envs/dataeng/lib/python3.9/site-packages (from dlt[bigquery]) (1.15.6)\n",
      "Requirement already satisfied: orjson!=3.10.1,!=3.9.11,!=3.9.12,!=3.9.13,!=3.9.14,<4,>=3.6.7 in /home/maxkaizo/miniconda3/envs/dataeng/lib/python3.9/site-packages (from dlt[bigquery]) (3.10.15)\n",
      "Requirement already satisfied: packaging>=21.1 in /home/maxkaizo/miniconda3/envs/dataeng/lib/python3.9/site-packages (from dlt[bigquery]) (24.2)\n",
      "Requirement already satisfied: pathvalidate>=2.5.2 in /home/maxkaizo/miniconda3/envs/dataeng/lib/python3.9/site-packages (from dlt[bigquery]) (3.2.3)\n",
      "Requirement already satisfied: pendulum>=2.1.2 in /home/maxkaizo/miniconda3/envs/dataeng/lib/python3.9/site-packages (from dlt[bigquery]) (3.0.0)\n",
      "Requirement already satisfied: pluggy>=1.3.0 in /home/maxkaizo/miniconda3/envs/dataeng/lib/python3.9/site-packages (from dlt[bigquery]) (1.5.0)\n",
      "Requirement already satisfied: pytz>=2022.6 in /home/maxkaizo/miniconda3/envs/dataeng/lib/python3.9/site-packages (from dlt[bigquery]) (2024.1)\n",
      "Requirement already satisfied: requests>=2.26.0 in /home/maxkaizo/miniconda3/envs/dataeng/lib/python3.9/site-packages (from dlt[bigquery]) (2.32.3)\n",
      "Requirement already satisfied: requirements-parser>=0.5.0 in /home/maxkaizo/miniconda3/envs/dataeng/lib/python3.9/site-packages (from dlt[bigquery]) (0.11.0)\n",
      "Requirement already satisfied: rich-argparse<2.0.0,>=1.6.0 in /home/maxkaizo/miniconda3/envs/dataeng/lib/python3.9/site-packages (from dlt[bigquery]) (1.7.0)\n",
      "Requirement already satisfied: semver>=3.0.0 in /home/maxkaizo/miniconda3/envs/dataeng/lib/python3.9/site-packages (from dlt[bigquery]) (3.0.4)\n",
      "Requirement already satisfied: setuptools>=65.6.0 in /home/maxkaizo/miniconda3/envs/dataeng/lib/python3.9/site-packages (from dlt[bigquery]) (75.1.0)\n",
      "Requirement already satisfied: simplejson>=3.17.5 in /home/maxkaizo/miniconda3/envs/dataeng/lib/python3.9/site-packages (from dlt[bigquery]) (3.20.1)\n",
      "Requirement already satisfied: tenacity>=8.0.2 in /home/maxkaizo/miniconda3/envs/dataeng/lib/python3.9/site-packages (from dlt[bigquery]) (9.0.0)\n",
      "Requirement already satisfied: tomlkit>=0.11.3 in /home/maxkaizo/miniconda3/envs/dataeng/lib/python3.9/site-packages (from dlt[bigquery]) (0.13.2)\n",
      "Requirement already satisfied: typing-extensions>=4.8.0 in /home/maxkaizo/miniconda3/envs/dataeng/lib/python3.9/site-packages (from dlt[bigquery]) (4.12.2)\n",
      "Requirement already satisfied: tzdata>=2022.1 in /home/maxkaizo/miniconda3/envs/dataeng/lib/python3.9/site-packages (from dlt[bigquery]) (2024.2)\n",
      "Collecting db-dtypes>=1.2.0 (from dlt[bigquery])\n",
      "  Downloading db_dtypes-1.4.2-py2.py3-none-any.whl.metadata (3.0 kB)\n",
      "Requirement already satisfied: gcsfs>=2022.4.0 in /home/maxkaizo/miniconda3/envs/dataeng/lib/python3.9/site-packages (from dlt[bigquery]) (2025.3.0)\n",
      "Collecting google-cloud-bigquery>=2.26.0 (from dlt[bigquery])\n",
      "  Downloading google_cloud_bigquery-3.31.0-py3-none-any.whl.metadata (7.7 kB)\n",
      "Collecting grpcio>=1.50.0 (from dlt[bigquery])\n",
      "  Downloading grpcio-1.71.0-cp39-cp39-manylinux_2_17_x86_64.manylinux2014_x86_64.whl.metadata (3.8 kB)\n",
      "Collecting pyarrow<18,>=12.0.0 (from dlt[bigquery])\n",
      "  Downloading pyarrow-17.0.0-cp39-cp39-manylinux_2_28_x86_64.whl.metadata (3.3 kB)\n",
      "Requirement already satisfied: pandas>=0.24.2 in /home/maxkaizo/miniconda3/envs/dataeng/lib/python3.9/site-packages (from db-dtypes>=1.2.0->dlt[bigquery]) (2.2.3)\n",
      "Requirement already satisfied: numpy>=1.16.6 in /home/maxkaizo/miniconda3/envs/dataeng/lib/python3.9/site-packages (from db-dtypes>=1.2.0->dlt[bigquery]) (2.0.2)\n",
      "Requirement already satisfied: aiohttp!=4.0.0a0,!=4.0.0a1 in /home/maxkaizo/miniconda3/envs/dataeng/lib/python3.9/site-packages (from gcsfs>=2022.4.0->dlt[bigquery]) (3.11.14)\n",
      "Requirement already satisfied: decorator>4.1.2 in /home/maxkaizo/miniconda3/envs/dataeng/lib/python3.9/site-packages (from gcsfs>=2022.4.0->dlt[bigquery]) (5.1.1)\n",
      "Requirement already satisfied: google-auth>=1.2 in /home/maxkaizo/miniconda3/envs/dataeng/lib/python3.9/site-packages (from gcsfs>=2022.4.0->dlt[bigquery]) (2.38.0)\n",
      "Requirement already satisfied: google-auth-oauthlib in /home/maxkaizo/miniconda3/envs/dataeng/lib/python3.9/site-packages (from gcsfs>=2022.4.0->dlt[bigquery]) (1.2.1)\n",
      "Requirement already satisfied: google-cloud-storage in /home/maxkaizo/miniconda3/envs/dataeng/lib/python3.9/site-packages (from gcsfs>=2022.4.0->dlt[bigquery]) (3.0.0)\n",
      "Requirement already satisfied: gitdb<5,>=4.0.1 in /home/maxkaizo/miniconda3/envs/dataeng/lib/python3.9/site-packages (from gitpython>=3.1.29->dlt[bigquery]) (4.0.12)\n",
      "Requirement already satisfied: google-api-core<3.0.0,>=2.11.1 in /home/maxkaizo/miniconda3/envs/dataeng/lib/python3.9/site-packages (from google-api-core[grpc]<3.0.0,>=2.11.1->google-cloud-bigquery>=2.26.0->dlt[bigquery]) (2.24.1)\n",
      "Requirement already satisfied: google-cloud-core<3.0.0,>=2.4.1 in /home/maxkaizo/miniconda3/envs/dataeng/lib/python3.9/site-packages (from google-cloud-bigquery>=2.26.0->dlt[bigquery]) (2.4.1)\n",
      "Requirement already satisfied: google-resumable-media<3.0.0,>=2.0.0 in /home/maxkaizo/miniconda3/envs/dataeng/lib/python3.9/site-packages (from google-cloud-bigquery>=2.26.0->dlt[bigquery]) (2.7.2)\n",
      "Requirement already satisfied: python-dateutil<3.0.0,>=2.8.2 in /home/maxkaizo/miniconda3/envs/dataeng/lib/python3.9/site-packages (from google-cloud-bigquery>=2.26.0->dlt[bigquery]) (2.9.0.post0)\n",
      "Requirement already satisfied: ply in /home/maxkaizo/miniconda3/envs/dataeng/lib/python3.9/site-packages (from jsonpath-ng>=1.5.3->dlt[bigquery]) (3.11)\n",
      "Requirement already satisfied: time-machine>=2.6.0 in /home/maxkaizo/miniconda3/envs/dataeng/lib/python3.9/site-packages (from pendulum>=2.1.2->dlt[bigquery]) (2.16.0)\n",
      "Requirement already satisfied: charset-normalizer<4,>=2 in /home/maxkaizo/miniconda3/envs/dataeng/lib/python3.9/site-packages (from requests>=2.26.0->dlt[bigquery]) (3.3.2)\n",
      "Requirement already satisfied: idna<4,>=2.5 in /home/maxkaizo/miniconda3/envs/dataeng/lib/python3.9/site-packages (from requests>=2.26.0->dlt[bigquery]) (3.7)\n",
      "Requirement already satisfied: urllib3<3,>=1.21.1 in /home/maxkaizo/miniconda3/envs/dataeng/lib/python3.9/site-packages (from requests>=2.26.0->dlt[bigquery]) (2.3.0)\n",
      "Requirement already satisfied: certifi>=2017.4.17 in /home/maxkaizo/miniconda3/envs/dataeng/lib/python3.9/site-packages (from requests>=2.26.0->dlt[bigquery]) (2024.12.14)\n",
      "Requirement already satisfied: types-setuptools>=69.1.0 in /home/maxkaizo/miniconda3/envs/dataeng/lib/python3.9/site-packages (from requirements-parser>=0.5.0->dlt[bigquery]) (75.8.0.20250210)\n",
      "Requirement already satisfied: rich>=11.0.0 in /home/maxkaizo/miniconda3/envs/dataeng/lib/python3.9/site-packages (from rich-argparse<2.0.0,>=1.6.0->dlt[bigquery]) (13.9.4)\n",
      "Requirement already satisfied: aiohappyeyeballs>=2.3.0 in /home/maxkaizo/miniconda3/envs/dataeng/lib/python3.9/site-packages (from aiohttp!=4.0.0a0,!=4.0.0a1->gcsfs>=2022.4.0->dlt[bigquery]) (2.6.1)\n",
      "Requirement already satisfied: aiosignal>=1.1.2 in /home/maxkaizo/miniconda3/envs/dataeng/lib/python3.9/site-packages (from aiohttp!=4.0.0a0,!=4.0.0a1->gcsfs>=2022.4.0->dlt[bigquery]) (1.3.2)\n",
      "Requirement already satisfied: async-timeout<6.0,>=4.0 in /home/maxkaizo/miniconda3/envs/dataeng/lib/python3.9/site-packages (from aiohttp!=4.0.0a0,!=4.0.0a1->gcsfs>=2022.4.0->dlt[bigquery]) (5.0.1)\n",
      "Requirement already satisfied: attrs>=17.3.0 in /home/maxkaizo/miniconda3/envs/dataeng/lib/python3.9/site-packages (from aiohttp!=4.0.0a0,!=4.0.0a1->gcsfs>=2022.4.0->dlt[bigquery]) (24.3.0)\n",
      "Requirement already satisfied: frozenlist>=1.1.1 in /home/maxkaizo/miniconda3/envs/dataeng/lib/python3.9/site-packages (from aiohttp!=4.0.0a0,!=4.0.0a1->gcsfs>=2022.4.0->dlt[bigquery]) (1.5.0)\n",
      "Requirement already satisfied: multidict<7.0,>=4.5 in /home/maxkaizo/miniconda3/envs/dataeng/lib/python3.9/site-packages (from aiohttp!=4.0.0a0,!=4.0.0a1->gcsfs>=2022.4.0->dlt[bigquery]) (6.2.0)\n",
      "Requirement already satisfied: propcache>=0.2.0 in /home/maxkaizo/miniconda3/envs/dataeng/lib/python3.9/site-packages (from aiohttp!=4.0.0a0,!=4.0.0a1->gcsfs>=2022.4.0->dlt[bigquery]) (0.3.1)\n",
      "Requirement already satisfied: yarl<2.0,>=1.17.0 in /home/maxkaizo/miniconda3/envs/dataeng/lib/python3.9/site-packages (from aiohttp!=4.0.0a0,!=4.0.0a1->gcsfs>=2022.4.0->dlt[bigquery]) (1.18.3)\n",
      "Requirement already satisfied: smmap<6,>=3.0.1 in /home/maxkaizo/miniconda3/envs/dataeng/lib/python3.9/site-packages (from gitdb<5,>=4.0.1->gitpython>=3.1.29->dlt[bigquery]) (5.0.2)\n",
      "Requirement already satisfied: googleapis-common-protos<2.0.dev0,>=1.56.2 in /home/maxkaizo/miniconda3/envs/dataeng/lib/python3.9/site-packages (from google-api-core<3.0.0,>=2.11.1->google-api-core[grpc]<3.0.0,>=2.11.1->google-cloud-bigquery>=2.26.0->dlt[bigquery]) (1.66.0)\n",
      "Requirement already satisfied: protobuf!=3.20.0,!=3.20.1,!=4.21.0,!=4.21.1,!=4.21.2,!=4.21.3,!=4.21.4,!=4.21.5,<6.0.0.dev0,>=3.19.5 in /home/maxkaizo/miniconda3/envs/dataeng/lib/python3.9/site-packages (from google-api-core<3.0.0,>=2.11.1->google-api-core[grpc]<3.0.0,>=2.11.1->google-cloud-bigquery>=2.26.0->dlt[bigquery]) (5.29.3)\n",
      "Requirement already satisfied: proto-plus<2.0.0dev,>=1.22.3 in /home/maxkaizo/miniconda3/envs/dataeng/lib/python3.9/site-packages (from google-api-core<3.0.0,>=2.11.1->google-api-core[grpc]<3.0.0,>=2.11.1->google-cloud-bigquery>=2.26.0->dlt[bigquery]) (1.26.0)\n",
      "Collecting grpcio-status<2.0.dev0,>=1.33.2 (from google-api-core[grpc]<3.0.0,>=2.11.1->google-cloud-bigquery>=2.26.0->dlt[bigquery])\n",
      "  Downloading grpcio_status-1.71.0-py3-none-any.whl.metadata (1.1 kB)\n",
      "Requirement already satisfied: cachetools<6.0,>=2.0.0 in /home/maxkaizo/miniconda3/envs/dataeng/lib/python3.9/site-packages (from google-auth>=1.2->gcsfs>=2022.4.0->dlt[bigquery]) (5.5.1)\n",
      "Requirement already satisfied: pyasn1-modules>=0.2.1 in /home/maxkaizo/miniconda3/envs/dataeng/lib/python3.9/site-packages (from google-auth>=1.2->gcsfs>=2022.4.0->dlt[bigquery]) (0.4.1)\n",
      "Requirement already satisfied: rsa<5,>=3.1.4 in /home/maxkaizo/miniconda3/envs/dataeng/lib/python3.9/site-packages (from google-auth>=1.2->gcsfs>=2022.4.0->dlt[bigquery]) (4.9)\n",
      "Requirement already satisfied: google-crc32c<2.0dev,>=1.0 in /home/maxkaizo/miniconda3/envs/dataeng/lib/python3.9/site-packages (from google-resumable-media<3.0.0,>=2.0.0->google-cloud-bigquery>=2.26.0->dlt[bigquery]) (1.6.0)\n",
      "Requirement already satisfied: six>=1.5 in /home/maxkaizo/miniconda3/envs/dataeng/lib/python3.9/site-packages (from python-dateutil<3.0.0,>=2.8.2->google-cloud-bigquery>=2.26.0->dlt[bigquery]) (1.16.0)\n",
      "Requirement already satisfied: markdown-it-py>=2.2.0 in /home/maxkaizo/miniconda3/envs/dataeng/lib/python3.9/site-packages (from rich>=11.0.0->rich-argparse<2.0.0,>=1.6.0->dlt[bigquery]) (3.0.0)\n",
      "Requirement already satisfied: pygments<3.0.0,>=2.13.0 in /home/maxkaizo/miniconda3/envs/dataeng/lib/python3.9/site-packages (from rich>=11.0.0->rich-argparse<2.0.0,>=1.6.0->dlt[bigquery]) (2.15.1)\n",
      "Requirement already satisfied: requests-oauthlib>=0.7.0 in /home/maxkaizo/miniconda3/envs/dataeng/lib/python3.9/site-packages (from google-auth-oauthlib->gcsfs>=2022.4.0->dlt[bigquery]) (2.0.0)\n",
      "Requirement already satisfied: mdurl~=0.1 in /home/maxkaizo/miniconda3/envs/dataeng/lib/python3.9/site-packages (from markdown-it-py>=2.2.0->rich>=11.0.0->rich-argparse<2.0.0,>=1.6.0->dlt[bigquery]) (0.1.2)\n",
      "Requirement already satisfied: pyasn1<0.7.0,>=0.4.6 in /home/maxkaizo/miniconda3/envs/dataeng/lib/python3.9/site-packages (from pyasn1-modules>=0.2.1->google-auth>=1.2->gcsfs>=2022.4.0->dlt[bigquery]) (0.6.1)\n",
      "Requirement already satisfied: oauthlib>=3.0.0 in /home/maxkaizo/miniconda3/envs/dataeng/lib/python3.9/site-packages (from requests-oauthlib>=0.7.0->google-auth-oauthlib->gcsfs>=2022.4.0->dlt[bigquery]) (3.2.2)\n",
      "Downloading db_dtypes-1.4.2-py2.py3-none-any.whl (18 kB)\n",
      "Downloading google_cloud_bigquery-3.31.0-py3-none-any.whl (250 kB)\n",
      "Downloading grpcio-1.71.0-cp39-cp39-manylinux_2_17_x86_64.manylinux2014_x86_64.whl (5.9 MB)\n",
      "\u001b[2K   \u001b[90m━━━━━━━━━━━━━━━━━━━━━━━━━━━━━━━━━━━━━━━━\u001b[0m \u001b[32m5.9/5.9 MB\u001b[0m \u001b[31m16.6 MB/s\u001b[0m eta \u001b[36m0:00:00\u001b[0ma \u001b[36m0:00:01\u001b[0m\n",
      "\u001b[?25hDownloading pyarrow-17.0.0-cp39-cp39-manylinux_2_28_x86_64.whl (39.9 MB)\n",
      "\u001b[2K   \u001b[90m━━━━━━━━━━━━━━━━━━━━━━━━━━━━━━━━━━━━━━━━\u001b[0m \u001b[32m39.9/39.9 MB\u001b[0m \u001b[31m20.2 MB/s\u001b[0m eta \u001b[36m0:00:00\u001b[0m00:01\u001b[0m00:01\u001b[0m\n",
      "\u001b[?25hDownloading grpcio_status-1.71.0-py3-none-any.whl (14 kB)\n",
      "Installing collected packages: pyarrow, grpcio, grpcio-status, db-dtypes, google-cloud-bigquery\n",
      "  Attempting uninstall: pyarrow\n",
      "    Found existing installation: pyarrow 19.0.1\n",
      "    Uninstalling pyarrow-19.0.1:\n",
      "      Successfully uninstalled pyarrow-19.0.1\n",
      "Successfully installed db-dtypes-1.4.2 google-cloud-bigquery-3.31.0 grpcio-1.71.0 grpcio-status-1.71.0 pyarrow-17.0.0\n"
     ]
    }
   ],
   "source": [
    "!pip install dlt[bigquery]"
   ]
  },
  {
   "cell_type": "code",
   "execution_count": 6,
   "metadata": {},
   "outputs": [
    {
     "name": "stdout",
     "output_type": "stream",
     "text": [
      "/home/maxkaizo/cdmx_ecobici_usage/terraform/.keys/my-creds.json\n"
     ]
    }
   ],
   "source": [
    "import os\n",
    "print(os.environ.get(\"GOOGLE_APPLICATION_CREDENTIALS\"))\n",
    "\n"
   ]
  },
  {
   "cell_type": "code",
   "execution_count": null,
   "metadata": {},
   "outputs": [
    {
     "name": "stderr",
     "output_type": "stream",
     "text": [
      "/home/maxkaizo/miniconda3/envs/dataeng/lib/python3.9/site-packages/google/cloud/bigquery/client.py:595: UserWarning: Cannot create BigQuery Storage client, the dependency google-cloud-bigquery-storage is not installed.\n",
      "  warnings.warn(\n",
      "2025-03-26 13:42:35,884|[WARNING]|15410|140687288141312|dlt|type_mapping.py|to_db_datetime_type:56|Column flags for timezone or precision are not yet supported in this destination. One or both of these flags were used in column 'ingestion_ts'. in table 'stg_rides'.\n",
      "2025-03-26 13:42:38,402|[WARNING]|15410|140687288141312|dlt|type_mapping.py|to_db_datetime_type:56|Column flags for timezone or precision are not yet supported in this destination. One or both of these flags were used in column 'ingestion_ts'. in table 'stg_rides'.\n"
     ]
    },
    {
     "name": "stdout",
     "output_type": "stream",
     "text": [
      "Pipeline ecobici_pipeline load step completed in 1 minute and 58.87 seconds\n",
      "1 load package(s) were loaded to destination bigquery and into dataset ecobici_dataset\n",
      "The bigquery destination used None@dataeng-448500 location to store data\n",
      "Load package 1743018154.2815917 is LOADED and contains no failed jobs\n"
     ]
    }
   ],
   "source": [
    "import dlt\n",
    "import pandas as pd\n",
    "import hashlib\n",
    "import gcsfs\n",
    "\n",
    "# Parámetros\n",
    "filename = \"ecobici_2025-01.csv\"\n",
    "gcs_path = f\"dataeng-448500-ecobici-bucket/raw/{filename}\"\n",
    "\n",
    "# Crear cliente GCS (usa GOOGLE_APPLICATION_CREDENTIALS automáticamente si está seteado)\n",
    "fs = gcsfs.GCSFileSystem(project='dataeng-448500')\n",
    "\n",
    "# Leer CSV desde GCS\n",
    "with fs.open(gcs_path, 'rb') as f:\n",
    "    df = pd.read_csv(f)\n",
    "\n",
    "# Agregar columnas auxiliares\n",
    "df[\"source_file\"] = filename\n",
    "df[\"ingestion_ts\"] = pd.Timestamp.utcnow()\n",
    "\n",
    "df[\"ride_id\"] = df.apply(\n",
    "    lambda row: hashlib.md5(\n",
    "        f\"{row['Bici']}_{row['Fecha_Retiro']}_{row['Hora_Retiro']}_{row['Fecha_Arribo']}_{row['Hora_Arribo']}\".encode(\"utf-8\")\n",
    "    ).hexdigest(),\n",
    "    axis=1\n",
    ")\n",
    "\n",
    "# Crear pipeline DLT\n",
    "pipeline = dlt.pipeline(\n",
    "    pipeline_name=\"ecobici_pipeline\",\n",
    "    destination=\"bigquery\",\n",
    "    dataset_name=\"ecobici_dataset\"\n",
    ")\n",
    "\n",
    "# Cargar DataFrame\n",
    "info = pipeline.run(df, table_name=\"stg_rides\", write_disposition=\"append\")\n",
    "\n",
    "print(info)\n"
   ]
  },
  {
   "cell_type": "code",
   "execution_count": null,
   "metadata": {},
   "outputs": [],
   "source": []
  }
 ],
 "metadata": {
  "kernelspec": {
   "display_name": "dataeng",
   "language": "python",
   "name": "python3"
  },
  "language_info": {
   "codemirror_mode": {
    "name": "ipython",
    "version": 3
   },
   "file_extension": ".py",
   "mimetype": "text/x-python",
   "name": "python",
   "nbconvert_exporter": "python",
   "pygments_lexer": "ipython3",
   "version": "3.9.21"
  }
 },
 "nbformat": 4,
 "nbformat_minor": 2
}
